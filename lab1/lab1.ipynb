{
  "nbformat": 4,
  "nbformat_minor": 0,
  "metadata": {
    "colab": {
      "provenance": []
    },
    "kernelspec": {
      "name": "python3",
      "display_name": "Python 3"
    },
    "language_info": {
      "name": "python"
    }
  },
  "cells": [
    {
      "cell_type": "code",
      "source": [
        "!pip install transitions"
      ],
      "metadata": {
        "colab": {
          "base_uri": "https://localhost:8080/"
        },
        "id": "n_1nU5H24C4w",
        "outputId": "0651a745-7938-4923-eadb-7eeb789a1380"
      },
      "execution_count": 2,
      "outputs": [
        {
          "output_type": "stream",
          "name": "stdout",
          "text": [
            "Collecting transitions\n",
            "  Downloading transitions-0.9.2-py2.py3-none-any.whl.metadata (96 kB)\n",
            "\u001b[?25l     \u001b[90m━━━━━━━━━━━━━━━━━━━━━━━━━━━━━━━━━━━━━━━━\u001b[0m \u001b[32m0.0/96.7 kB\u001b[0m \u001b[31m?\u001b[0m eta \u001b[36m-:--:--\u001b[0m\r\u001b[2K     \u001b[90m━━━━━━━━━━━━━━━━━━━━━━━━━━━━━━━━━━━━━━━━\u001b[0m \u001b[32m96.7/96.7 kB\u001b[0m \u001b[31m4.6 MB/s\u001b[0m eta \u001b[36m0:00:00\u001b[0m\n",
            "\u001b[?25hRequirement already satisfied: six in /usr/local/lib/python3.11/dist-packages (from transitions) (1.17.0)\n",
            "Downloading transitions-0.9.2-py2.py3-none-any.whl (111 kB)\n",
            "\u001b[?25l   \u001b[90m━━━━━━━━━━━━━━━━━━━━━━━━━━━━━━━━━━━━━━━━\u001b[0m \u001b[32m0.0/111.8 kB\u001b[0m \u001b[31m?\u001b[0m eta \u001b[36m-:--:--\u001b[0m\r\u001b[2K   \u001b[90m━━━━━━━━━━━━━━━━━━━━━━━━━━━━━━━━━━━━━━━━\u001b[0m \u001b[32m111.8/111.8 kB\u001b[0m \u001b[31m7.0 MB/s\u001b[0m eta \u001b[36m0:00:00\u001b[0m\n",
            "\u001b[?25hInstalling collected packages: transitions\n",
            "Successfully installed transitions-0.9.2\n"
          ]
        }
      ]
    },
    {
      "cell_type": "code",
      "execution_count": 5,
      "metadata": {
        "colab": {
          "base_uri": "https://localhost:8080/"
        },
        "id": "L262iulH35CP",
        "outputId": "3e73c448-9335-4c27-cf48-847c1b6d3d5d"
      },
      "outputs": [
        {
          "output_type": "stream",
          "name": "stdout",
          "text": [
            "Начинаем стирку...\n",
            "Заливаем воду...\n",
            "Стирка...\n",
            "Таймер успешно завершил работу.\n",
            "Сливаем воду...\n"
          ]
        }
      ],
      "source": [
        "from transitions import Machine\n",
        "import random  # Импортируем для имитации возможной ошибки\n",
        "\n",
        "\n",
        "class WashingMachine(object):\n",
        "   pass\n",
        "\n",
        "machine = WashingMachine()\n",
        "\n",
        "# Определение состояний\n",
        "states = ['idle', 'filling', 'washing', 'draining', 'defective']\n",
        "\n",
        "# Определение переходов\n",
        "transitions = [\n",
        "    {'trigger': 'start', 'source': 'idle', 'dest': 'filling'},\n",
        "    {'trigger': 'level_reached', 'source': 'filling', 'dest': 'washing'},\n",
        "    {'trigger': 'timer_done', 'source': 'washing', 'dest': 'draining'},\n",
        "    {'trigger': 'timer_failed', 'source': 'washing', 'dest': 'defective'},\n",
        "    {'trigger': 'level_drained', 'source': 'draining', 'dest': 'idle'},\n",
        "    {'trigger': 'reset', 'source': 'defective', 'dest': 'idle'},\n",
        "]\n",
        "\n",
        "washing_machine = Machine(machine, states=states, transitions=transitions, initial='idle')\n",
        "\n",
        "# Имитация залива воды (d1)\n",
        "def fill_water():\n",
        "    print(\"Заливаем воду...\")\n",
        "    machine.level_reached()\n",
        "\n",
        "def wash():\n",
        "    print(\"Стирка...\")\n",
        "    # Имитация  таймера\n",
        "    if random.random() < 0.5:\n",
        "            print(\"Ошибка таймера! Машина переходит в состояние 'defective'\")\n",
        "            machine.timer_failed()\n",
        "    else:\n",
        "            print(\"Таймер успешно завершил работу.\")\n",
        "            machine.timer_done()\n",
        "\n",
        "# Имитация слива воды (d2)\n",
        "def drain_water():\n",
        "    print(\"Сливаем воду...\")\n",
        "    machine.level_drained()\n",
        "\n",
        "def simulate_washing():\n",
        "  print(\"Начинаем стирку...\")\n",
        "  machine.start()  # Переход в состояние 'filling'\n",
        "  fill_water()  # Переход в состояние 'washing'\n",
        "  wash()  # Переход в состояние 'draining' или 'defective'\n",
        "  if machine.state != 'defective':\n",
        "      drain_water()\n",
        "  else:\n",
        "      print(\"Требуется ремонт\")\n",
        "      machine.reset()\n",
        "      print(machine.state)\n",
        "\n",
        "simulate_washing()"
      ]
    }
  ]
}